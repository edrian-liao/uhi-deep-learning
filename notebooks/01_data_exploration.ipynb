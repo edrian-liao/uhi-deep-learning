{
 "cells": [
  {
   "cell_type": "code",
   "execution_count": 19,
   "metadata": {},
   "outputs": [],
   "source": [
    "# Import packages\n",
    "import ee\n",
    "import pandas as pd\n",
    "import numpy as np\n",
    "import time\n",
    "# from geetools import batch\n",
    "from tqdm import tqdm\n",
    "from functools import partial\n",
    "import folium\n",
    "import rasterio as rio\n",
    "from pyproj import Proj, transform\n",
    "# from osgeo import gdal, osr\n",
    "import os\n",
    "import geopandas as gpd"
   ]
  },
  {
   "cell_type": "code",
   "execution_count": 20,
   "metadata": {},
   "outputs": [],
   "source": [
    "# Personal credentials\n",
    "service_account = \"landsat@uhi-deep-learning.iam.gserviceaccount.com\"\n",
    "json_key = \"../uhi-deep-learning-2214ca816e9e.json\""
   ]
  }
 ],
 "metadata": {
  "kernelspec": {
   "display_name": "research",
   "language": "python",
   "name": "python3"
  },
  "language_info": {
   "codemirror_mode": {
    "name": "ipython",
    "version": 3
   },
   "file_extension": ".py",
   "mimetype": "text/x-python",
   "name": "python",
   "nbconvert_exporter": "python",
   "pygments_lexer": "ipython3",
   "version": "3.12.5"
  }
 },
 "nbformat": 4,
 "nbformat_minor": 2
}
